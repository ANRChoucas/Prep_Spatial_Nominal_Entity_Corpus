{
 "cells": [
  {
   "attachments": {},
   "cell_type": "markdown",
   "metadata": {},
   "source": [
    "# Ngram JSON to TSV\n",
    "\n",
    "The notebook aims to create a TSV file from the JSON format used to store ngrams.\n",
    "The TSV format will be used to annotated manually ngrams to build a test set."
   ]
  },
  {
   "cell_type": "code",
   "execution_count": null,
   "metadata": {},
   "outputs": [],
   "source": [
    "import os\n",
    "from tqdm import tqdm\n",
    "import random \n",
    "import string\n",
    "from utils_functions import load_json, compute_default_pivot_position"
   ]
  },
  {
   "cell_type": "code",
   "execution_count": null,
   "metadata": {},
   "outputs": [],
   "source": [
    "ngram_size = 13\n",
    "filename = 'Ngrams_Class0_dataset-Encyclopedie_lexicon-Traitement_Texte_ngramSize-'+str(ngram_size)\n",
    "#filename = 'Ngrams_Class0_dataset-Encyclopedie_lexicon-Traitement_Texte'\n",
    "\n",
    "ngrams = load_json(os.path.join('..', 'output', filename + '.json'))"
   ]
  },
  {
   "cell_type": "code",
   "execution_count": null,
   "metadata": {},
   "outputs": [],
   "source": [
    "tsv_content = 'ngramID\\tfile\\t'\n",
    "for i in range(-compute_default_pivot_position(ngram_size)+1, compute_default_pivot_position(ngram_size)):\n",
    "    if i == 0:\n",
    "        tsv_content += 'pivot\\t'\n",
    "    else:\n",
    "        tsv_content += 'context-' + str(i) + '\\t'\n",
    "tsv_content += 'class\\n'\n",
    "for ngram in ngrams:\n",
    "    tsv_content += str(ngram['num']) + '\\t' + ngram['url'] + '\\t'\n",
    "    for token in ngram['phrase']:\n",
    "        tsv_content += token['word'] + '\\t' \n",
    "    tsv_content += ngram['class']\n",
    "    tsv_content += '\\n'"
   ]
  },
  {
   "cell_type": "code",
   "execution_count": null,
   "metadata": {},
   "outputs": [],
   "source": [
    "with open(os.path.join('..', 'output', filename + '.tsv'), 'w') as fp:\n",
    "    fp.write(tsv_content)"
   ]
  },
  {
   "cell_type": "code",
   "execution_count": null,
   "metadata": {},
   "outputs": [],
   "source": []
  }
 ],
 "metadata": {
  "kernelspec": {
   "display_name": "Python 3",
   "language": "python",
   "name": "python3"
  },
  "language_info": {
   "codemirror_mode": {
    "name": "ipython",
    "version": 3
   },
   "file_extension": ".py",
   "mimetype": "text/x-python",
   "name": "python",
   "nbconvert_exporter": "python",
   "pygments_lexer": "ipython3",
   "version": "3.9.16"
  }
 },
 "nbformat": 4,
 "nbformat_minor": 2
}
