{
 "cells": [
  {
   "cell_type": "markdown",
   "metadata": {},
   "source": [
    "# Create lexicon of term from ENE"
   ]
  },
  {
   "cell_type": "code",
   "execution_count": 5,
   "metadata": {},
   "outputs": [
    {
     "name": "stderr",
     "output_type": "stream",
     "text": [
      "[nltk_data] Downloading package punkt to /Users/mgaio/nltk_data...\n",
      "[nltk_data]   Package punkt is already up-to-date!\n"
     ]
    }
   ],
   "source": [
    "import os\n",
    "from tqdm import tqdm\n",
    "from utils_functions import get_term_occurrences_from_ene, load_json, save_json"
   ]
  },
  {
   "cell_type": "code",
   "execution_count": 8,
   "metadata": {},
   "outputs": [
    {
     "name": "stderr",
     "output_type": "stream",
     "text": [
      "100%|███████████████████████████████████████████████████████████████████████████████████████████████████████████████████████████████████████████████████████████████████████████████████████████████| 95/95 [00:00<00:00, 546.33it/s]\n"
     ]
    },
    {
     "name": "stdout",
     "output_type": "stream",
     "text": [
      "Corpus: Traitement_Texte Size of the lexicon 190\n"
     ]
    },
    {
     "name": "stderr",
     "output_type": "stream",
     "text": [
      "100%|██████████████████████████████████████████████████████████████████████████████████████████████████████████████████████████████████████████████████████████████████████████████████████████| 1530/1530 [00:00<00:00, 1642.62it/s]\n"
     ]
    },
    {
     "name": "stdout",
     "output_type": "stream",
     "text": [
      "Corpus: Visorando Size of the lexicon 813\n"
     ]
    }
   ],
   "source": [
    "path = os.path.join('..' ,'..','Learning_Nominal_Entity','Corpus')\n",
    "\n",
    "\n",
    "frequency_dicts = {}\n",
    "for corpus in ['Traitement_Texte', 'Visorando']:\n",
    "    \n",
    "    input_path = os.path.join(path , corpus, 'perdido')\n",
    "    output_path = os.path.join('..' ,'output')\n",
    "    os.makedirs(output_path, exist_ok=True)\n",
    "    output_filename = os.path.join(output_path , 'Lexicon_dataset-' + corpus + '.json')\n",
    "\n",
    "    words = []\n",
    "    for file in tqdm(sorted(os.listdir(input_path))):\n",
    "        filename = os.path.join(input_path, file) \n",
    "        words.extend(get_term_occurrences_from_ene(filename))\n",
    "\n",
    "    # list to dict with frequency\n",
    "    frequency_dicts[corpus] = {value: words.count(value) for value in words}\n",
    "    print('Corpus:', corpus, 'Size of the lexicon', len(frequency_dicts[corpus]))\n",
    "\n",
    "    #save the dict in file\n",
    "    save_json(output_filename, frequency_dicts[corpus])"
   ]
  },
  {
   "cell_type": "markdown",
   "metadata": {},
   "source": [
    "### Lexique Traitement_Texte - Visorando"
   ]
  },
  {
   "cell_type": "code",
   "execution_count": 9,
   "metadata": {},
   "outputs": [
    {
     "name": "stdout",
     "output_type": "stream",
     "text": [
      "687 ['hameau', 'lac du plan', 'bourgs', 'chalets', 'passage du lac', 'refuge du col', 'dôme', 'plaine de', 'crête des lances', 'hameaux', 'garage', 'téléphérique', \"gare d' arrivée\", 'glacier', 'dômes', 'bois', 'intersection du moulin', 'combe', 'faubourg', 'col de', \"ruines de l' alpe\", 'hameau du plan', 'glaciers', 'état de fraîcheur', 'bâtisse de la prise', 'bâtisse', 'passage au dessus du chemin', 'vallées', 'route du col', 'carrefour de la route', 'parking de la plage', 'ports des sables', 'ports', 'cabane', 'sentier du hameau', 'maisons du hameau', 'bâtiments', 'remparts', 'quartier', 'écluse', 'île', 'arête', 'plateau', 'parking pointe', 'maison-phare', 'route de la pointe', 'village de pors', 'parking de la pointe', 'anse de port', 'anse', 'village de chef', 'ria', 'parking de la gare', \"pistes de l' aérodrome\", 'anse de la plage', 'pays', \"parking de l' abbaye\", 'plaine du comtat', 'abbaye de nd', 'bâtisses', 'murs', 'monts', 'carrefour de', \"place de l' église\", 'chemin du départ', 'rocher de jean', 'chemin du rocher', 'parking au sud', 'chaussée', 'parking du point', 'cimetière de pestiférés', 'grotte de la tante', 'montagnes', 'gouffre', 'évêché', 'comté', 'allée', 'portes', 'chemin de port', 'hôpital de condom', 'hôpital', 'lieu du pré', \"bâtiments de l' exploitation\", 'communes', 'ruines du village', 'ferme du plan', 'lieu de débardage', 'parking de la mairie', 'rue du bois', 'marais', 'un des marais', 'passage au bord', \"bâtiment de l' office\", 'bâtiment', 'sommet du ballon', 'hameau du bois', 'route des fonds', 'rue du pont', 'théâtre', 'parc du château', 'parking du plan', 'rive', 'allée route', 'route de la princesse', 'aérodrome', 'cap', 'quais', 'rue de la tour', 'rempart du xiie', 'rempart', 'côte', 'massifs', 'alpages', 'pointe de combe', 'village au bord', 'sentier du fil', 'village de port', 'route du port', 'carrefour de la borne', \"plan d' eau\", 'chemin du moulin', 'pont du ruisseau', \"château d' eau\", 'carrefour des chemins', 'ville de naissance du général', 'ville de naissance', 'piste du col', 'parking du jardin', 'sentier du parc', 'hameau des chalets', 'rive du torrent', 'parking des randonneurs', \"place de l' office\", 'parking du plain', 'piste de ski', 'tunnel du col', 'tunnel', 'sommet du but', 'rochers de au dessus', 'village rue', 'école', 'boulevard', 'route au niveau', 'route au niveau du hameau', 'chemin des gîtes', \"pont de l' autoroute\", 'pont du canal', 'pont de la rivière', 'cabane de pré', 'cascade de combe', 'alpage', 'lac des prés', 'parking du champ', 'parking au dessus', 'restaurant', 'arêtes', 'parking de la chartreuse', 'chemin du val', 'chemin du mont', 'carrefour de la rue', 'parking au bord', 'route du sommet', 'jardin au bord', \"sentiers de l' épopée\", 'fontaine place', 'bassin', 'ruelle', 'rue de la fontaine', 'mur des maison', 'place de la mairie', 'rue du puits', 'villes', 'butte', 'chemin de halage', \"hameau d' essart\", \"mur d' enceinte\", 'chapelle de la trinité', \"rue de l' église\", 'rue du roi', 'fermes', 'embouchure', 'parking de la maison', 'route du village', 'chapelle de la vierge', 'bâtiments du moulin', 'rue de la commune', 'quai de chargement', 'écluses', 'quais de chargement', 'pont au dessus', 'étang du marais', 'rond-point de la route', 'carrefour des routes', \"parking de l' église\", 'route des fonts', 'parking du hameau', 'forêts des communes', 'pic', 'chaussée du moulin', 'sentier de la cascade', 'plaine de la région', 'sommet de la pointe', 'parc de la au niveau', 'crête de', 'parking de la fontaine', 'carrefour du col', 'cabane de berger', 'champ du village', 'gare de départ', 'parking de la place', 'chemin du tour', 'refuge du plan', 'refuge du ras', 'domaine de la ferme', 'mur de pierres', 'plateaux', 'parking côté', 'chemin de jonction', 'refuge du crêt', 'alpage au dessus', \"département de l'\", 'parking du foyer', 'barrière', 'carrefour du chêne de la duchesse', 'carrefour du chêne', 'chemin route', 'baie', 'parking du parcours', 'forêt au dessus', \"place de l' hôtel\", \"canal d' alimentation\", 'embouchure du ruisseau de la plaine', 'avenue de la 1ère', 'parking du stade', 'rue du vieux', 'plaine du cabaret', 'route du chaos', 'hameau de la gare', 'restaurant de la grotte', 'carrefour du bout', 'forêt au pied', 'carrefour des ventes', 'pays du tour', 'boulevard du chemin', 'pont côté', 'piste des bords', 'thermes', 'phare', 'lieu de départ', 'pont du vieux', 'sommet du col', 'parking de merlette', 'rocher des chèvres', 'bâtiment de style', 'place du marché', \"cour d' honneur\", 'place du faubourg', 'grottes', 'canal vallée', 'village au dessus', 'sentier de la dent', 'région du lac', 'pistes de ski de la station', 'pistes de ski', 'cabanes', 'camping de la plage', 'cap de la cale', 'cap de la place', 'parking du refuge', 'parking chemin', 'chemin du pré', 'sentier du', 'sentier du bois', 'barrières', 'ruisseau au niveau', 'cascade de la goutte', \"chalet d' accueil du site\", \"chalet d' accueil\", 'vallon du torrent', 'route de la jument', 'place de', 'parking de la piscine', 'anse du vieux', 'baie des sables', 'parking du puits', 'ruines des chalets', 'rive du ruisseau', 'ruines du moulin', 'sommet de la colline', 'chemin de la fosse', 'chemin de la tête', \"port d' échouage\", 'avenue de la cour', 'chemin de terre', 'pointe du champ', 'cascade du ruisseau', \"barrage de l' étang\", 'sentier rive du ruisseau', \"barrage de l' etang\", 'chemin du roc', 'piste du pas', 'route de la valleuse', 'village de la verrerie', 'rue du château', 'cour du château', \"rue de l' hôtel\", 'jardin du roi', 'route du val', 'parking du télésiège', 'route du bois', 'chemin de la queue', 'rue du faubourg', 'route de front', 'golfe', 'sommet du pic', 'sommet nord du pic', 'ruisseau de pré', 'ruines de la bergerie', 'ru', 'chalet refuge', 'fontaines', 'sentier du trou', 'intersections', 'parc du clos', 'parc des évêques', 'hameau de la lande', 'passage du col', 'cabane de', 'cabane du pré', 'chemin de la canalisation', 'chemin du bras', 'chemin de la chapelle', \"piste de l' alpage\", 'chemin de la croix', 'butte de queue', 'plateau du mont', 'sommet de la banne', 'carrefour du chemin', 'rive le torrent du vallon', 'parkings', 'chemin du début', 'lieu de pique-nique', 'chemin de la butte', 'route du vallon', 'parking des mines', 'parking du parc', 'jardins', 'chemin de hallage', 'col des prés', 'carrefour de nd', 'maisons de bois', 'hameau du vieux', 'village de la chapelle', 'village au niveau', 'parking du pont', 'ruelles', 'fleuve', 'ruines de la maison', 'parking du site', 'piste de la cave', 'parking des bains', 'route du cros', 'ruines des cabanes', 'intersection de circuits', 'lieu-dit au dessus', 'refuge de la dent', 'parking de', 'sentier du balcon', 'parking au centre', 'village au pied des monts', 'chemin de la combe', 'route du mémorial', 'chemin du gr', 'église de la commune', 'place du cimetière', 'gare de la joux-maison', 'territoire de la commune', 'territoire', 'route des chalets', 'mur du parc', \"plateau d' alpage\", 'sommets côté', 'sommet de la montagne', \"ferme d' alpage\", 'forêt de la plaine', 'rue des roches', 'route de route de la bole', 'route de la bole', 'hameau des granges', 'plateau du lac', 'chemin des dents', 'auberge de la forêt', 'route au niveau du village', 'village de vacance', 'rue des pièces', 'ruines des bergeries', 'chemin du col', 'carrefour de départ', 'ville route', 'chemin du bois', 'refuge du club', 'rive du lac', 'parking des granges', 'refuge des oulettes', 'gave', 'ruine du château', 'sentier des sources', 'chemin au nord de lac', 'route de la station', \"bâtiment d' accueil du terrain\", \"bâtiment d' accueil\", \"quai de l' île\", 'mer du golfe', 'place du commandant', 'carrefour boulevards', 'parking de la station', 'sentier du canal', 'maisons de combe', 'carrefour de la maison', 'sentier de la crête', 'ferme du bois', 'rue de la comtesse', 'sentier des rives', 'sentier des falaises', 'sentier de falaise', 'rue de la vallée', 'route du pré', 'route du suc', 'crête de la roche', 'ruisseau du col', 'route des stations', 'plans', 'auberge du crêt', \"hameau d' ayères\", 'cascade de', 'pont de la ligne', 'parking du stand', 'parking de parc', 'rue chemin', 'carrefour du bar du bistrot', 'carrefour du bar', 'route du hameau', 'vallée de la sarre', 'route du stade de neige', 'route du stade', 'torrent du glacier', 'plaine du réou', 'parking du au dessus', 'cascade du nant', 'col du mt', 'parking des remontées', 'carrefour du lac', 'versant nord', 'bâtisse du refuge', 'fontaine du champ', 'rue de la vue', 'chalet des amis', 'parking des confins au dessus', 'sentier de la point', 'sommet du crêt', \"piste d' envol\", 'forêt au niveau des hameaux de pré', 'forêt au niveau des hameaux', \"chalet d' alpage\", 'chalets de bois', 'parking de pré', 'sentier du tour', 'rue des forges', 'parking du domaine', 'parking du sommet', 'château du duc', 'rives de la rivière', 'ruisseau de st', 'chalets du plan', \"piste d' alpage du chalet\", 'parking de la rocade', 'boulevard du président', 'bâtiment de la chambre', 'avenue du général', 'parking du village', 'commune de la motte', 'lac du barrage', 'crêtes', \"chalets d' alpage\", 'vallon du nant', 'parking des téléskis', 'sentier sentier', 'chemin sentier', 'sentier des fleurs', 'bassins', 'impasses', 'avenue de la garenne', 'impasse des prés', 'maison de cure', 'intersection du port', 'refuge de la brèche', \"chalets de l' alpe\", 'parking du terminus', 'route du plateau', 'cabane du berger', 'route du tunnel', 'plaine de la vallée', 'hameau du ban', 'rives du bassin', 'grotte du trou', 'route du mont', 'cascade du bout', 'parking de la forêt', 'ferme du lycée', 'terres', 'carrefour de la citerne', 'pont du val', 'parking du lycée', 'chemin du vallon', 'chemin de la plage', 'parking de la montagne', 'place du village', 'sommet du serre', 'route au dessus', 'parking du belvédère', 'hôtel du bois', \"parking de l' école\", 'moulin moulin', 'moulin du puits', 'barrages', 'parking du couloir', 'chalet refuge du nant', 'maison du parc au pied', 'maisons du nant', 'route de la vallée', 'restaurant du cheval', 'col du port', 'quartiers', 'carrefour du refuge', \"ferme d' altitude\", 'sommet du téléski', 'chalet du lac', 'chemin de', 'routes', 'hôtellerie', 'torrent du gave', 'refuge des houlettes de au pied', 'refuge des houlettes', 'lac du col', 'gave au niveau', 'hameau du riou', 'crête du mont', 'parc de la maison', 'chemins de la base', 'passage au pied', 'départements', 'combes', 'chemin de la bâtisse', 'combe de brame', \"rue de l' abbé\", 'chaussée du plan', 'ruines de la vigie', 'route du chêne', 'sentier du capitaine', 'sentier de montagne', 'route côté', 'pointes', \"sentier d' ascension du gerbier\", \"sentier d' ascension\", 'chalet du ski', 'plateau de la dent', 'sentier du début', 'chemin des plots', 'parking du port', \"parking de l'\", 'ruisseau col', 'allée des filles', 'passage du saut', 'bâtiments de la ferme', 'route du pont', 'parking de départ', \"parking de l' orris\", 'route des monts', 'forêt de hêtres', 'col au pied du massif', 'maison de combe', 'mer au centre', 'plaines', 'arête de la pointe', 'rue du jardin', 'embranchement du sentier', 'rue du clos', 'sentier des vignes', 'rue de la corne', 'rue de la jument', 'restaurant de la baie', 'quartiers de villégiature', 'cimetière chemin', 'temple', 'route du poteau', 'carrefour du poteau', 'intersection du pas', 'église de st', 'crêtes des roches', 'chemin de la trêve', 'col de la croix', 'hameau du mas', 'chemin du combe', 'piste du combe', 'parking lieu de départ', 'parking lieu', 'route de pont', 'route du moulin', 'maison du village', 'rue du huit', 'chemin des hauts', 'intersection du chemin', 'chemin de la côte', 'combe des cives', 'commune de la ruchère', 'parking du bâtiment', 'bâtisses des chalets', 'alpage de pré', 'carrefour du port', 'sentier du refuge', 'arête du mont', 'gares', 'col du cheval', 'passage du pic', 'lac du lac', 'versant du massif', 'bâtiments de la station', 'chemin du balcon', 'carrefour du cimetière', 'rocher de la porte', 'lieu de la route', 'rue du pré', 'chemin du bout', 'route de la mer', 'chemin du chenal', 'carrefour du restaurant', 'chemin de crasses', 'route au dessus du hameau', 'parking du bois', 'route de la chapelle', 'bâtiments de chemin', 'quai côté', 'fontaine du moine', 'mur du château', 'route de la cascade', 'sommet de la source', 'parking de la chapelle', 'école du village', \"grottes de l' est\", 'capitale', 'carrefour du rocher', 'route des gorges', 'usines de chaussures', 'combe du torrent', 'hameau du haut', 'sommet des prés', 'hameau de la montagne', 'chemin de pays', 'port de pêche', 'port de port', 'sommet de la colle', 'parking le sentier du grp', 'col de pré', 'sentier du rocher', \"passage de l' écluse\", 'sommet de la dent', \"bâtiment de l' école\", 'pointe du plan', 'galerie', \"plaine de l' aupt\", 'vallon de la montagne', 'plan du lac', 'îles', 'gare de sncf', 'prison', 'hameau du cros', 'auberge du clos', \"bassins d' épuration\", 'usine de coutellerie', 'village du mas', 'usine de captage', 'parking au bord de mer', 'canal de dérivation', 'bâtiment de la maison', 'rue du duc', 'place du corps', \"rond-point de l' allée\"]\n"
     ]
    }
   ],
   "source": [
    "words = [item for item in frequency_dicts['Visorando'].keys() if item not in frequency_dicts['Traitement_Texte'].keys()]\n",
    "print(len(words), words)"
   ]
  },
  {
   "cell_type": "markdown",
   "metadata": {},
   "source": [
    "### Lexicons preview"
   ]
  },
  {
   "cell_type": "code",
   "execution_count": 10,
   "metadata": {},
   "outputs": [],
   "source": [
    "corpus = 'Traitement_Texte' # 'Visorando'\n",
    "\n",
    "# Load the lexicon from json file\n",
    "output_path = os.path.join('..' ,'output')\n",
    "output_filename = os.path.join(output_path, 'Lexicon_dataset-' + corpus + '.json')\n",
    "\n",
    "frequency_pivot = load_json(output_filename)"
   ]
  },
  {
   "cell_type": "code",
   "execution_count": 11,
   "metadata": {},
   "outputs": [
    {
     "name": "stdout",
     "output_type": "stream",
     "text": [
      "chemin 73\n",
      "lieu-dit 16\n",
      "chemins 2\n",
      "plaine 45\n",
      "sommet de la ligne 1\n",
      "sommet 39\n",
      "sentier 66\n",
      "champ 12\n",
      "col 115\n",
      "rocher 22\n",
      "sentiers 3\n",
      "route 85\n",
      "piste 5\n",
      "lac 64\n",
      "parking 93\n",
      "intersection 6\n",
      "auberge 49\n",
      "port de chaussures 1\n",
      "port 1\n",
      "massif 4\n",
      "vallée 37\n",
      "crête 5\n",
      "sommets 3\n",
      "grotte 24\n",
      "gare 8\n",
      "place 14\n",
      "ruisseau 4\n",
      "parking du lac 3\n",
      "rochers 11\n",
      "source du lac 2\n",
      "source 34\n",
      "parking de la route 1\n",
      "ferme 7\n",
      "refuge 8\n",
      "chalet 10\n",
      "auberge du lac 1\n",
      "ruines 43\n",
      "parking du château 6\n",
      "château 52\n",
      "barrage 10\n",
      "villages 5\n",
      "cascades 1\n",
      "châteaux 16\n",
      "abbaye 22\n",
      "rue 186\n",
      "rivière 10\n",
      "carrefour 97\n",
      "cour 7\n",
      "route des châteaux 2\n",
      "village 17\n",
      "parking au pied 2\n",
      "galeries 2\n",
      "parking de l' auberge 3\n",
      "pistes 3\n",
      "versant 1\n",
      "passages 2\n",
      "sources 3\n",
      "moulin 5\n",
      " 4\n",
      "étang 15\n",
      "canal d' amenée 1\n",
      "canal 8\n",
      "mur 3\n",
      "refuges 1\n",
      "usines 1\n",
      "mer 1\n",
      "lieu 11\n",
      "couvent 18\n",
      "forêt 16\n",
      "auberges 1\n",
      "chapelle 27\n",
      "vallon 5\n",
      "parking de la salle 6\n",
      "passage 2\n",
      "villages de la route 1\n",
      "montagne 3\n",
      "rue du général 6\n",
      "bourg 2\n",
      "hôtel 11\n",
      "église 8\n",
      "maisons 3\n",
      "champs 1\n",
      "étangs 4\n",
      "cimetière de l' église 1\n",
      "cimetière 6\n",
      "parking du col 9\n",
      "plan 5\n",
      "fontaine 4\n",
      "cascade 13\n",
      "maison 24\n",
      "porte 14\n",
      "rochers de grès 1\n",
      "rocher de la paix 1\n",
      "carrefour de l' abri 2\n",
      "parking du cimetière 2\n",
      "château du trois châteaux d' eguisheim 1\n",
      "pont 16\n",
      "lieu du début 1\n",
      "pont du chemin 4\n",
      "état 1\n",
      "pointe 1\n",
      "commune 3\n",
      "canton 1\n",
      "département 4\n",
      "ruines du château 4\n",
      "fossé de drainage 2\n",
      "fossé 2\n",
      "fossés 2\n",
      "sentier d' interprétation 1\n",
      "ruines des châteaux 6\n",
      "ruine 9\n",
      "parc 9\n",
      "sentier des pèlerins 3\n",
      "mont 4\n",
      "région 5\n",
      "ruines de l' abbaye 3\n",
      "jardin 6\n",
      "ville 5\n",
      "camping 6\n",
      "parking le long 2\n",
      "rues 1\n",
      "sommet de la tête 1\n",
      "musée du mémorial 1\n",
      "musée 1\n",
      "parking de la ferme 2\n",
      "barrage du lac 1\n",
      "crête du lac 1\n",
      "carrefour source lac 1\n",
      "musées 2\n",
      "village au fond 1\n",
      "ponts 1\n",
      "rives 4\n",
      "rives du lac 1\n",
      "torrent 1\n",
      "parking route de entrée 2\n",
      "parking route 3\n",
      "villages du début 1\n",
      "parking de l' aire 2\n",
      "rue des rabbins 1\n",
      "carrefour de chemins 1\n",
      "chemin du roi 2\n",
      "pont de canal 1\n",
      "chemin des châteaux 1\n",
      "intersection chemin des châteaux 1\n",
      "intersection chemin 1\n",
      "versant côté vallée 1\n",
      "rochers de 2\n",
      "parking place 1\n",
      "carrefour du sentier 2\n",
      "jardin des fées de le sentier des sculptures situ 1\n",
      "jardin des fées de le sentier des sculptures 1\n",
      "jardin des fées 1\n",
      "intersection rue 1\n",
      "parking rue 2\n",
      "usine 3\n",
      "usine d' eau 1\n",
      "maison le carrefour du sentier 1\n",
      "parc du relais 1\n",
      "promontoire 1\n",
      "parking de l' étang 1\n",
      "villages de la vallée 1\n",
      "versant du champ 1\n",
      "cols 1\n",
      "étangs de pêche 1\n",
      "forêts 3\n",
      "lieux 1\n",
      "forêt le sentier 1\n",
      "crête du champ 1\n",
      "parking de la cour 1\n",
      "domaine 3\n",
      "places 2\n",
      "embranchement 1\n",
      "quai 1\n",
      "pont du barrage 1\n",
      "sentier de l' ex-chemin 1\n",
      "sentier chemin 1\n",
      "parking du terrain 3\n",
      "ruines de abbaye 1\n",
      "chemin de saint-jacques 1\n",
      "intersection de la rue 1\n",
      "pont de chemin 1\n",
      "carrefour rue 3\n",
      "étang de pêche 1\n",
      "passage du deuxième 1\n",
      "impasse 1\n",
      "avenue 1\n",
      "parc du domaine 1\n",
      "rond-point 1\n",
      "parking de la porte 1\n",
      "chemin de croix 1\n"
     ]
    }
   ],
   "source": [
    "for k, v in frequency_pivot.items():\n",
    "    print(k, v)"
   ]
  }
 ],
 "metadata": {
  "kernelspec": {
   "display_name": "Python 3 (ipykernel)",
   "language": "python",
   "name": "python3"
  },
  "language_info": {
   "codemirror_mode": {
    "name": "ipython",
    "version": 3
   },
   "file_extension": ".py",
   "mimetype": "text/x-python",
   "name": "python",
   "nbconvert_exporter": "python",
   "pygments_lexer": "ipython3",
   "version": "3.10.12"
  }
 },
 "nbformat": 4,
 "nbformat_minor": 2
}
